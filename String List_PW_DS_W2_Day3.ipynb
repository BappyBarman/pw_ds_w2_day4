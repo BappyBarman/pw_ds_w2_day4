{
 "cells": [
  {
   "cell_type": "markdown",
   "id": "93847b4c",
   "metadata": {},
   "source": [
    "### STRING LIST"
   ]
  },
  {
   "cell_type": "code",
   "execution_count": 1,
   "id": "2da1e19a",
   "metadata": {},
   "outputs": [],
   "source": [
    "name=\"Data Science Maters\""
   ]
  },
  {
   "cell_type": "code",
   "execution_count": 2,
   "id": "a1d1d178",
   "metadata": {},
   "outputs": [
    {
     "data": {
      "text/plain": [
       "'dATA sCIENCE mATERS'"
      ]
     },
     "execution_count": 2,
     "metadata": {},
     "output_type": "execute_result"
    }
   ],
   "source": [
    "name.swapcase()"
   ]
  },
  {
   "cell_type": "code",
   "execution_count": 3,
   "id": "09f805f7",
   "metadata": {},
   "outputs": [
    {
     "data": {
      "text/plain": [
       "'Data Science Maters'"
      ]
     },
     "execution_count": 3,
     "metadata": {},
     "output_type": "execute_result"
    }
   ],
   "source": [
    "name.title()"
   ]
  },
  {
   "cell_type": "code",
   "execution_count": 4,
   "id": "fcdae18f",
   "metadata": {},
   "outputs": [
    {
     "data": {
      "text/plain": [
       "'Data science maters'"
      ]
     },
     "execution_count": 4,
     "metadata": {},
     "output_type": "execute_result"
    }
   ],
   "source": [
    "name.capitalize()"
   ]
  },
  {
   "cell_type": "markdown",
   "id": "169bfa82",
   "metadata": {},
   "source": [
    "## Reversing a String"
   ]
  },
  {
   "cell_type": "code",
   "execution_count": 5,
   "id": "0adfa2e8",
   "metadata": {},
   "outputs": [
    {
     "data": {
      "text/plain": [
       "'sretaM ecneicS ataD'"
      ]
     },
     "execution_count": 5,
     "metadata": {},
     "output_type": "execute_result"
    }
   ],
   "source": [
    "name[::-1]"
   ]
  },
  {
   "cell_type": "code",
   "execution_count": 6,
   "id": "96d32ba2",
   "metadata": {},
   "outputs": [
    {
     "data": {
      "text/plain": [
       "<reversed at 0x24bae921930>"
      ]
     },
     "execution_count": 6,
     "metadata": {},
     "output_type": "execute_result"
    }
   ],
   "source": [
    "reversed(name)"
   ]
  },
  {
   "cell_type": "code",
   "execution_count": 7,
   "id": "963d84fb",
   "metadata": {},
   "outputs": [
    {
     "data": {
      "text/plain": [
       "'s r e t a M   e c n e i c S   a t a D'"
      ]
     },
     "execution_count": 7,
     "metadata": {},
     "output_type": "execute_result"
    }
   ],
   "source": [
    "' '.join(reversed(name))"
   ]
  },
  {
   "cell_type": "code",
   "execution_count": 8,
   "id": "a0513ba7",
   "metadata": {},
   "outputs": [
    {
     "data": {
      "text/plain": [
       "'NBappyaBappyiBappyk'"
      ]
     },
     "execution_count": 8,
     "metadata": {},
     "output_type": "execute_result"
    }
   ],
   "source": [
    "\"Bappy\".join(\"Naik\")"
   ]
  },
  {
   "cell_type": "code",
   "execution_count": 9,
   "id": "ba088ef2",
   "metadata": {},
   "outputs": [
    {
     "data": {
      "text/plain": [
       "'A B C'"
      ]
     },
     "execution_count": 9,
     "metadata": {},
     "output_type": "execute_result"
    }
   ],
   "source": [
    "' '.join(\"ABC\")"
   ]
  },
  {
   "cell_type": "code",
   "execution_count": 11,
   "id": "f39c200f",
   "metadata": {},
   "outputs": [
    {
     "data": {
      "text/plain": [
       "'C B A'"
      ]
     },
     "execution_count": 11,
     "metadata": {},
     "output_type": "execute_result"
    }
   ],
   "source": [
    "' '.join(reversed('ABC'))"
   ]
  },
  {
   "cell_type": "code",
   "execution_count": 12,
   "id": "9c4defcb",
   "metadata": {},
   "outputs": [],
   "source": [
    "str1=\"My name is Bappy\""
   ]
  },
  {
   "cell_type": "code",
   "execution_count": 15,
   "id": "426ee0d7",
   "metadata": {},
   "outputs": [
    {
     "data": {
      "text/plain": [
       "'M y   n a m e   i s   B a p p y'"
      ]
     },
     "execution_count": 15,
     "metadata": {},
     "output_type": "execute_result"
    }
   ],
   "source": [
    "' '.join(str1)"
   ]
  },
  {
   "cell_type": "markdown",
   "id": "71b7e21c",
   "metadata": {},
   "source": [
    "Removing character from the end of the string"
   ]
  },
  {
   "cell_type": "code",
   "execution_count": 18,
   "id": "d65c709d",
   "metadata": {},
   "outputs": [],
   "source": [
    "string_a=\" PWSKILLS \""
   ]
  },
  {
   "cell_type": "code",
   "execution_count": 19,
   "id": "8c60bc7b",
   "metadata": {},
   "outputs": [
    {
     "data": {
      "text/plain": [
       "'PWSKILLS'"
      ]
     },
     "execution_count": 19,
     "metadata": {},
     "output_type": "execute_result"
    }
   ],
   "source": [
    "string_a.strip(\" \")"
   ]
  },
  {
   "cell_type": "code",
   "execution_count": 20,
   "id": "192b9779",
   "metadata": {},
   "outputs": [
    {
     "data": {
      "text/plain": [
       "'PWSKILLS '"
      ]
     },
     "execution_count": 20,
     "metadata": {},
     "output_type": "execute_result"
    }
   ],
   "source": [
    "string_a.lstrip(\" \")"
   ]
  },
  {
   "cell_type": "code",
   "execution_count": 21,
   "id": "93f6f09e",
   "metadata": {},
   "outputs": [
    {
     "data": {
      "text/plain": [
       "' PWSKILLS'"
      ]
     },
     "execution_count": 21,
     "metadata": {},
     "output_type": "execute_result"
    }
   ],
   "source": [
    "string_a.rstrip(\" \")"
   ]
  },
  {
   "cell_type": "code",
   "execution_count": 22,
   "id": "b642baf3",
   "metadata": {},
   "outputs": [
    {
     "data": {
      "text/plain": [
       "'Greeting from pwskills'"
      ]
     },
     "execution_count": 22,
     "metadata": {},
     "output_type": "execute_result"
    }
   ],
   "source": [
    "string_n=\"Greeting to pwskills\"\n",
    "string_n.replace(\"to\",\"from\")"
   ]
  },
  {
   "cell_type": "code",
   "execution_count": 23,
   "id": "56e96cb1",
   "metadata": {},
   "outputs": [],
   "source": [
    "name=\"Bappy\""
   ]
  },
  {
   "cell_type": "code",
   "execution_count": 24,
   "id": "8c57c069",
   "metadata": {},
   "outputs": [],
   "source": [
    "name=\"Krish\""
   ]
  },
  {
   "cell_type": "code",
   "execution_count": 25,
   "id": "dcb16fbf",
   "metadata": {},
   "outputs": [
    {
     "name": "stdout",
     "output_type": "stream",
     "text": [
      "Krish\n"
     ]
    }
   ],
   "source": [
    "print(name)"
   ]
  },
  {
   "cell_type": "code",
   "execution_count": 26,
   "id": "a56f7087",
   "metadata": {},
   "outputs": [
    {
     "ename": "TypeError",
     "evalue": "'str' object does not support item assignment",
     "output_type": "error",
     "traceback": [
      "\u001b[1;31m---------------------------------------------------------------------------\u001b[0m",
      "\u001b[1;31mTypeError\u001b[0m                                 Traceback (most recent call last)",
      "Cell \u001b[1;32mIn[26], line 1\u001b[0m\n\u001b[1;32m----> 1\u001b[0m name[\u001b[38;5;241m0\u001b[39m]\u001b[38;5;241m=\u001b[39m\u001b[38;5;124m\"\u001b[39m\u001b[38;5;124mk\u001b[39m\u001b[38;5;124m\"\u001b[39m\n",
      "\u001b[1;31mTypeError\u001b[0m: 'str' object does not support item assignment"
     ]
    }
   ],
   "source": []
  },
  {
   "cell_type": "code",
   "execution_count": 27,
   "id": "87f1fca2",
   "metadata": {},
   "outputs": [],
   "source": [
    "string_n=\"greeting\""
   ]
  },
  {
   "cell_type": "code",
   "execution_count": 28,
   "id": "d7c1e550",
   "metadata": {},
   "outputs": [
    {
     "data": {
      "text/plain": [
       "'treetint'"
      ]
     },
     "execution_count": 28,
     "metadata": {},
     "output_type": "execute_result"
    }
   ],
   "source": [
    "string_n.replace(\"g\",\"t\")"
   ]
  },
  {
   "cell_type": "code",
   "execution_count": 30,
   "id": "8ff3312a",
   "metadata": {},
   "outputs": [
    {
     "data": {
      "text/plain": [
       "'test gmail.com'"
      ]
     },
     "execution_count": 30,
     "metadata": {},
     "output_type": "execute_result"
    }
   ],
   "source": [
    "string_n=\"test@gmail.com\"\n",
    "var_a=string_n.replace(\"@\",\" \")\n",
    "var_a"
   ]
  },
  {
   "cell_type": "code",
   "execution_count": 31,
   "id": "aaec5754",
   "metadata": {},
   "outputs": [
    {
     "data": {
      "text/plain": [
       "'My name is Bappy'"
      ]
     },
     "execution_count": 31,
     "metadata": {},
     "output_type": "execute_result"
    }
   ],
   "source": [
    "str1"
   ]
  },
  {
   "cell_type": "code",
   "execution_count": 32,
   "id": "4030062c",
   "metadata": {},
   "outputs": [
    {
     "data": {
      "text/plain": [
       "False"
      ]
     },
     "execution_count": 32,
     "metadata": {},
     "output_type": "execute_result"
    }
   ],
   "source": [
    "str1.isupper()"
   ]
  },
  {
   "cell_type": "code",
   "execution_count": 33,
   "id": "23c28afb",
   "metadata": {},
   "outputs": [
    {
     "data": {
      "text/plain": [
       "False"
      ]
     },
     "execution_count": 33,
     "metadata": {},
     "output_type": "execute_result"
    }
   ],
   "source": [
    "str1.islower()"
   ]
  },
  {
   "cell_type": "code",
   "execution_count": 34,
   "id": "9b644d0e",
   "metadata": {},
   "outputs": [
    {
     "data": {
      "text/plain": [
       "False"
      ]
     },
     "execution_count": 34,
     "metadata": {},
     "output_type": "execute_result"
    }
   ],
   "source": [
    "str1.isspace()"
   ]
  },
  {
   "cell_type": "code",
   "execution_count": 35,
   "id": "41bc167c",
   "metadata": {},
   "outputs": [
    {
     "data": {
      "text/plain": [
       "True"
      ]
     },
     "execution_count": 35,
     "metadata": {},
     "output_type": "execute_result"
    }
   ],
   "source": [
    "' '.isspace()"
   ]
  },
  {
   "cell_type": "code",
   "execution_count": 37,
   "id": "db45f31c",
   "metadata": {},
   "outputs": [
    {
     "name": "stdout",
     "output_type": "stream",
     "text": [
      "Hello\n"
     ]
    }
   ],
   "source": [
    "if \" \".isspace():\n",
    "    print(\"Hello\")"
   ]
  },
  {
   "cell_type": "code",
   "execution_count": 38,
   "id": "3ff722de",
   "metadata": {},
   "outputs": [],
   "source": [
    "str2=\"pwskills\""
   ]
  },
  {
   "cell_type": "code",
   "execution_count": 39,
   "id": "86ef156d",
   "metadata": {},
   "outputs": [
    {
     "data": {
      "text/plain": [
       "True"
      ]
     },
     "execution_count": 39,
     "metadata": {},
     "output_type": "execute_result"
    }
   ],
   "source": [
    "str2.endswith('s')"
   ]
  },
  {
   "cell_type": "code",
   "execution_count": 40,
   "id": "9fab1113",
   "metadata": {},
   "outputs": [
    {
     "data": {
      "text/plain": [
       "True"
      ]
     },
     "execution_count": 40,
     "metadata": {},
     "output_type": "execute_result"
    }
   ],
   "source": [
    "## Check if all the char in string are alphanumeric\n",
    "a=\"abcd1234\"\n",
    "a.isalnum()"
   ]
  },
  {
   "cell_type": "code",
   "execution_count": 41,
   "id": "de90ff6b",
   "metadata": {},
   "outputs": [],
   "source": [
    "## to count the number od char in the strings"
   ]
  },
  {
   "cell_type": "code",
   "execution_count": 43,
   "id": "8e2fc9d4",
   "metadata": {},
   "outputs": [
    {
     "name": "stdout",
     "output_type": "stream",
     "text": [
      "8\n"
     ]
    }
   ],
   "source": [
    "count=0\n",
    "for i in str2:\n",
    "    count=count+1\n",
    "print(count)"
   ]
  },
  {
   "cell_type": "code",
   "execution_count": 45,
   "id": "85cd7552",
   "metadata": {},
   "outputs": [
    {
     "name": "stdout",
     "output_type": "stream",
     "text": [
      "0 = p\n",
      "1 = w\n",
      "2 = s\n",
      "3 = k\n",
      "4 = i\n",
      "5 = l\n",
      "6 = l\n",
      "7 = s\n"
     ]
    }
   ],
   "source": [
    "for i in range(len(str2)):\n",
    "    print(i,\"=\",str2[i])"
   ]
  },
  {
   "cell_type": "code",
   "execution_count": 46,
   "id": "be3c8e2d",
   "metadata": {},
   "outputs": [
    {
     "name": "stdout",
     "output_type": "stream",
     "text": [
      "s\n",
      "l\n",
      "l\n",
      "i\n",
      "k\n",
      "s\n",
      "w\n",
      "p\n"
     ]
    }
   ],
   "source": [
    "# We can use index to iterate string reverse diretion\n",
    "string=\"pwskills\"\n",
    "ch=len(string)-1\n",
    "while ch>=0:\n",
    "    print(string[ch])\n",
    "    ch=ch-1"
   ]
  },
  {
   "cell_type": "code",
   "execution_count": 47,
   "id": "b7e90cd9",
   "metadata": {},
   "outputs": [
    {
     "name": "stdout",
     "output_type": "stream",
     "text": [
      "sllikswp"
     ]
    }
   ],
   "source": [
    "# We can use index to iterate string reverse diretion\n",
    "string=\"pwskills\"\n",
    "ch=len(string)-1\n",
    "while ch>=0:\n",
    "    print(string[ch],end=\"\")\n",
    "    ch=ch-1"
   ]
  },
  {
   "cell_type": "code",
   "execution_count": 48,
   "id": "34057605",
   "metadata": {},
   "outputs": [],
   "source": [
    "Name=\"pwskills\"\n",
    "vowels=\"AaEeIiOoUu\""
   ]
  },
  {
   "cell_type": "code",
   "execution_count": 50,
   "id": "1d913a25",
   "metadata": {},
   "outputs": [
    {
     "name": "stdout",
     "output_type": "stream",
     "text": [
      "p is not vowel\n",
      "w is not vowel\n",
      "s is not vowel\n",
      "k is not vowel\n",
      "i is a vowel\n",
      "l is not vowel\n",
      "l is not vowel\n",
      "s is not vowel\n"
     ]
    }
   ],
   "source": [
    "for ch in Name:\n",
    "    if ch in vowels:\n",
    "        print(\"{} is a vowel\".format(ch))\n",
    "    else:\n",
    "        print(\"{} is not vowel\".format(ch))"
   ]
  },
  {
   "cell_type": "markdown",
   "id": "c3faae08",
   "metadata": {},
   "source": [
    "**List"
   ]
  },
  {
   "cell_type": "code",
   "execution_count": 51,
   "id": "67daf2d1",
   "metadata": {},
   "outputs": [
    {
     "data": {
      "text/plain": [
       "[]"
      ]
     },
     "execution_count": 51,
     "metadata": {},
     "output_type": "execute_result"
    }
   ],
   "source": [
    "[]"
   ]
  },
  {
   "cell_type": "code",
   "execution_count": 52,
   "id": "14a846c5",
   "metadata": {},
   "outputs": [
    {
     "data": {
      "text/plain": [
       "list"
      ]
     },
     "execution_count": 52,
     "metadata": {},
     "output_type": "execute_result"
    }
   ],
   "source": [
    "type([])"
   ]
  },
  {
   "cell_type": "code",
   "execution_count": 53,
   "id": "a90266de",
   "metadata": {},
   "outputs": [
    {
     "data": {
      "text/plain": [
       "['Krish', 'Naik', 'PWskills', 32]"
      ]
     },
     "execution_count": 53,
     "metadata": {},
     "output_type": "execute_result"
    }
   ],
   "source": [
    "[\"Krish\",\"Naik\",\"PWskills\",32]"
   ]
  },
  {
   "cell_type": "code",
   "execution_count": 56,
   "id": "36dff8de",
   "metadata": {},
   "outputs": [
    {
     "data": {
      "text/plain": [
       "[1, 2, 3, 4, 5]"
      ]
     },
     "execution_count": 56,
     "metadata": {},
     "output_type": "execute_result"
    }
   ],
   "source": [
    "list([1,2,3,4,5,])"
   ]
  },
  {
   "cell_type": "code",
   "execution_count": 57,
   "id": "1ddecc41",
   "metadata": {},
   "outputs": [
    {
     "data": {
      "text/plain": [
       "['p', 'w', 's', 'k', 'i', 'l', 'l', 's']"
      ]
     },
     "execution_count": 57,
     "metadata": {},
     "output_type": "execute_result"
    }
   ],
   "source": [
    "list(str2)"
   ]
  },
  {
   "cell_type": "code",
   "execution_count": 59,
   "id": "30152cf3",
   "metadata": {},
   "outputs": [],
   "source": [
    "str1=\"PW skills Data science masters\""
   ]
  },
  {
   "cell_type": "code",
   "execution_count": 60,
   "id": "e10793a4",
   "metadata": {},
   "outputs": [
    {
     "data": {
      "text/plain": [
       "['PW', 'skills', 'Data', 'science', 'masters']"
      ]
     },
     "execution_count": 60,
     "metadata": {},
     "output_type": "execute_result"
    }
   ],
   "source": [
    "list(str1.split(\" \"))"
   ]
  },
  {
   "cell_type": "code",
   "execution_count": 61,
   "id": "6c3733e9",
   "metadata": {},
   "outputs": [
    {
     "data": {
      "text/plain": [
       "['PW', 'skills', 'Data', 'science', 'masters']"
      ]
     },
     "execution_count": 61,
     "metadata": {},
     "output_type": "execute_result"
    }
   ],
   "source": [
    "str1.split(\" \")"
   ]
  },
  {
   "cell_type": "code",
   "execution_count": 66,
   "id": "fa8211bf",
   "metadata": {},
   "outputs": [],
   "source": [
    "lst=str1"
   ]
  },
  {
   "cell_type": "code",
   "execution_count": 67,
   "id": "baccc552",
   "metadata": {},
   "outputs": [
    {
     "data": {
      "text/plain": [
       "'PW skills Data science masters'"
      ]
     },
     "execution_count": 67,
     "metadata": {},
     "output_type": "execute_result"
    }
   ],
   "source": [
    "str1"
   ]
  },
  {
   "cell_type": "code",
   "execution_count": 68,
   "id": "bec3a9a9",
   "metadata": {},
   "outputs": [
    {
     "data": {
      "text/plain": [
       "'PW skills Data science masters'"
      ]
     },
     "execution_count": 68,
     "metadata": {},
     "output_type": "execute_result"
    }
   ],
   "source": [
    "lst"
   ]
  },
  {
   "cell_type": "code",
   "execution_count": 73,
   "id": "ce94f653",
   "metadata": {},
   "outputs": [
    {
     "data": {
      "text/plain": [
       "['PW', 'skills', 'Data', 'science', 'masters']"
      ]
     },
     "execution_count": 73,
     "metadata": {},
     "output_type": "execute_result"
    }
   ],
   "source": [
    "list(str1.split(\" \"))"
   ]
  },
  {
   "cell_type": "code",
   "execution_count": 76,
   "id": "27fa4e9e",
   "metadata": {},
   "outputs": [
    {
     "data": {
      "text/plain": [
       "'PW skills Data science masters'"
      ]
     },
     "execution_count": 76,
     "metadata": {},
     "output_type": "execute_result"
    }
   ],
   "source": [
    "str1"
   ]
  },
  {
   "cell_type": "code",
   "execution_count": 77,
   "id": "473ff13b",
   "metadata": {},
   "outputs": [],
   "source": [
    "lst1=list(str1.split(\" \"))"
   ]
  },
  {
   "cell_type": "code",
   "execution_count": 78,
   "id": "4c5c84bb",
   "metadata": {},
   "outputs": [
    {
     "data": {
      "text/plain": [
       "['PW', 'skills', 'Data', 'science', 'masters']"
      ]
     },
     "execution_count": 78,
     "metadata": {},
     "output_type": "execute_result"
    }
   ],
   "source": [
    "lst1"
   ]
  },
  {
   "cell_type": "code",
   "execution_count": 79,
   "id": "993f1bb3",
   "metadata": {},
   "outputs": [
    {
     "data": {
      "text/plain": [
       "['PW', 'skills', 'Data', 'science', 'masters', 'element', 3]"
      ]
     },
     "execution_count": 79,
     "metadata": {},
     "output_type": "execute_result"
    }
   ],
   "source": [
    "## Concatenation operation\n",
    "lst1 + ['element',3]"
   ]
  },
  {
   "cell_type": "code",
   "execution_count": 81,
   "id": "95c7aa16",
   "metadata": {},
   "outputs": [],
   "source": [
    "lst2=lst1 +[['element',3]]"
   ]
  },
  {
   "cell_type": "code",
   "execution_count": 83,
   "id": "41b6d241",
   "metadata": {},
   "outputs": [
    {
     "data": {
      "text/plain": [
       "'element'"
      ]
     },
     "execution_count": 83,
     "metadata": {},
     "output_type": "execute_result"
    }
   ],
   "source": [
    "lst2[-1][0]"
   ]
  },
  {
   "cell_type": "code",
   "execution_count": 84,
   "id": "c6a27ae0",
   "metadata": {},
   "outputs": [
    {
     "data": {
      "text/plain": [
       "['PW',\n",
       " 'skills',\n",
       " 'Data',\n",
       " 'science',\n",
       " 'masters',\n",
       " 'PW',\n",
       " 'skills',\n",
       " 'Data',\n",
       " 'science',\n",
       " 'masters']"
      ]
     },
     "execution_count": 84,
     "metadata": {},
     "output_type": "execute_result"
    }
   ],
   "source": [
    "lst1*2"
   ]
  },
  {
   "cell_type": "code",
   "execution_count": 87,
   "id": "1cd8ba76",
   "metadata": {},
   "outputs": [
    {
     "name": "stdout",
     "output_type": "stream",
     "text": [
      "['PW', 'skills', 'Data', 'science', 'masters', ['element', 3], 'PW', 'skills', 'Data', 'science', 'masters', ['element', 3]] "
     ]
    }
   ],
   "source": [
    "print(lst2*2,end=\" \")"
   ]
  },
  {
   "cell_type": "code",
   "execution_count": 88,
   "id": "55eed71b",
   "metadata": {},
   "outputs": [
    {
     "data": {
      "text/plain": [
       "['PW', 'skills', 'Data', 'science', 'masters']"
      ]
     },
     "execution_count": 88,
     "metadata": {},
     "output_type": "execute_result"
    }
   ],
   "source": [
    "lst1"
   ]
  },
  {
   "cell_type": "code",
   "execution_count": 89,
   "id": "a2b0ee39",
   "metadata": {},
   "outputs": [
    {
     "name": "stdout",
     "output_type": "stream",
     "text": [
      "PW\n",
      "PW\n",
      "skills\n",
      "skills\n",
      "Data\n",
      "Data\n",
      "science\n",
      "science\n",
      "masters\n",
      "masters\n"
     ]
    }
   ],
   "source": [
    "for element in lst1:\n",
    "    print(element)\n",
    "    if \"science\" in lst1:\n",
    "        print(element)"
   ]
  },
  {
   "cell_type": "code",
   "execution_count": 90,
   "id": "389be17d",
   "metadata": {},
   "outputs": [
    {
     "name": "stdout",
     "output_type": "stream",
     "text": [
      "present\n"
     ]
    }
   ],
   "source": [
    "if \"science\" in lst1:\n",
    "    print(\"present\")"
   ]
  },
  {
   "cell_type": "code",
   "execution_count": 91,
   "id": "3cc7ef57",
   "metadata": {},
   "outputs": [
    {
     "name": "stdout",
     "output_type": "stream",
     "text": [
      "science\n"
     ]
    }
   ],
   "source": [
    "for element in lst1:\n",
    "    if element==\"science\":\n",
    "        print(element)\n",
    "        break"
   ]
  },
  {
   "cell_type": "code",
   "execution_count": 92,
   "id": "5dac17b2",
   "metadata": {},
   "outputs": [
    {
     "data": {
      "text/plain": [
       "True"
      ]
     },
     "execution_count": 92,
     "metadata": {},
     "output_type": "execute_result"
    }
   ],
   "source": [
    "## check elements inside a list\n",
    "lst=[1,2,3,4]\n",
    "4 in lst"
   ]
  },
  {
   "cell_type": "code",
   "execution_count": 93,
   "id": "3a20c77f",
   "metadata": {},
   "outputs": [],
   "source": [
    "#Append"
   ]
  },
  {
   "cell_type": "code",
   "execution_count": 94,
   "id": "ffdd7726",
   "metadata": {},
   "outputs": [],
   "source": [
    "lst=[1,2,3,4,5,6]"
   ]
  },
  {
   "cell_type": "code",
   "execution_count": 95,
   "id": "dd0d7e98",
   "metadata": {},
   "outputs": [
    {
     "data": {
      "text/plain": [
       "[1, 2, 3, 4, 5, 6]"
      ]
     },
     "execution_count": 95,
     "metadata": {},
     "output_type": "execute_result"
    }
   ],
   "source": [
    "lst"
   ]
  },
  {
   "cell_type": "code",
   "execution_count": 96,
   "id": "d08e1ffc",
   "metadata": {},
   "outputs": [],
   "source": [
    "lst.append(\"pwskills\")"
   ]
  },
  {
   "cell_type": "code",
   "execution_count": 97,
   "id": "55aa7a8b",
   "metadata": {},
   "outputs": [
    {
     "data": {
      "text/plain": [
       "[1, 2, 3, 4, 5, 6, 'pwskills']"
      ]
     },
     "execution_count": 97,
     "metadata": {},
     "output_type": "execute_result"
    }
   ],
   "source": [
    "lst"
   ]
  },
  {
   "cell_type": "code",
   "execution_count": 98,
   "id": "d5dae9c8",
   "metadata": {},
   "outputs": [],
   "source": [
    "lst1=[\"Zebra\",\"Monkey\",\"Donkey\",\"Lion\"]"
   ]
  },
  {
   "cell_type": "code",
   "execution_count": 107,
   "id": "f2cc4ad1",
   "metadata": {},
   "outputs": [],
   "source": [
    "lst1=[\"Zebra\",\"Monkey\",\"Donkey\",\"Lion\"]"
   ]
  },
  {
   "cell_type": "code",
   "execution_count": 110,
   "id": "6d64a78f",
   "metadata": {},
   "outputs": [],
   "source": [
    "lst1=[\"Zebra\",\"Monkey\",\"Donkey\",\"Lion\"]"
   ]
  },
  {
   "cell_type": "code",
   "execution_count": 111,
   "id": "98b9cc06",
   "metadata": {},
   "outputs": [
    {
     "data": {
      "text/plain": [
       "['Zebra', 'Monkey', 'Donkey', 'Lion']"
      ]
     },
     "execution_count": 111,
     "metadata": {},
     "output_type": "execute_result"
    }
   ],
   "source": [
    "lst1"
   ]
  },
  {
   "cell_type": "code",
   "execution_count": 113,
   "id": "b3aad0de",
   "metadata": {},
   "outputs": [
    {
     "data": {
      "text/plain": [
       "'Lion'"
      ]
     },
     "execution_count": 113,
     "metadata": {},
     "output_type": "execute_result"
    }
   ],
   "source": [
    "lst1.pop()"
   ]
  },
  {
   "cell_type": "code",
   "execution_count": 114,
   "id": "0001e122",
   "metadata": {},
   "outputs": [
    {
     "data": {
      "text/plain": [
       "['Zebra', 'Monkey', 'Donkey']"
      ]
     },
     "execution_count": 114,
     "metadata": {},
     "output_type": "execute_result"
    }
   ],
   "source": [
    "lst1"
   ]
  },
  {
   "cell_type": "code",
   "execution_count": 115,
   "id": "e507586c",
   "metadata": {},
   "outputs": [
    {
     "data": {
      "text/plain": [
       "'Monkey'"
      ]
     },
     "execution_count": 115,
     "metadata": {},
     "output_type": "execute_result"
    }
   ],
   "source": [
    "removed_element=lst1.pop(1)\n",
    "removed_element"
   ]
  },
  {
   "cell_type": "code",
   "execution_count": 117,
   "id": "ad662c1d",
   "metadata": {},
   "outputs": [
    {
     "data": {
      "text/plain": [
       "['Zebra', 'Donkey']"
      ]
     },
     "execution_count": 117,
     "metadata": {},
     "output_type": "execute_result"
    }
   ],
   "source": [
    "lst1"
   ]
  },
  {
   "cell_type": "code",
   "execution_count": 118,
   "id": "dc71e926",
   "metadata": {},
   "outputs": [],
   "source": [
    "## sorting and reverse method in list"
   ]
  },
  {
   "cell_type": "code",
   "execution_count": 119,
   "id": "b2072444",
   "metadata": {},
   "outputs": [
    {
     "data": {
      "text/plain": [
       "['q', 'e', 'f', 's', 't', 'u']"
      ]
     },
     "execution_count": 119,
     "metadata": {},
     "output_type": "execute_result"
    }
   ],
   "source": [
    "new_list=['q','e','f','s','t','u']\n",
    "new_list"
   ]
  },
  {
   "cell_type": "code",
   "execution_count": 120,
   "id": "ff9500b3",
   "metadata": {},
   "outputs": [
    {
     "data": {
      "text/plain": [
       "['u', 't', 's', 'f', 'e', 'q']"
      ]
     },
     "execution_count": 120,
     "metadata": {},
     "output_type": "execute_result"
    }
   ],
   "source": [
    "new_list[::-1]"
   ]
  },
  {
   "cell_type": "code",
   "execution_count": 121,
   "id": "7322939a",
   "metadata": {},
   "outputs": [],
   "source": [
    "new_list.reverse()"
   ]
  },
  {
   "cell_type": "code",
   "execution_count": 122,
   "id": "df447639",
   "metadata": {},
   "outputs": [
    {
     "data": {
      "text/plain": [
       "['u', 't', 's', 'f', 'e', 'q']"
      ]
     },
     "execution_count": 122,
     "metadata": {},
     "output_type": "execute_result"
    }
   ],
   "source": [
    "new_list"
   ]
  },
  {
   "cell_type": "code",
   "execution_count": 123,
   "id": "aedd5fdb",
   "metadata": {},
   "outputs": [],
   "source": [
    "new_list.sort()"
   ]
  },
  {
   "cell_type": "code",
   "execution_count": 124,
   "id": "ce70af4f",
   "metadata": {},
   "outputs": [
    {
     "data": {
      "text/plain": [
       "['e', 'f', 'q', 's', 't', 'u']"
      ]
     },
     "execution_count": 124,
     "metadata": {},
     "output_type": "execute_result"
    }
   ],
   "source": [
    "new_list"
   ]
  },
  {
   "cell_type": "markdown",
   "id": "38bdf6f1",
   "metadata": {},
   "source": [
    "Nested List"
   ]
  },
  {
   "cell_type": "code",
   "execution_count": 125,
   "id": "2dae4b0e",
   "metadata": {},
   "outputs": [],
   "source": [
    "# Let's make three lists\n",
    "lst_1=[1,2,3]\n",
    "lst_2=[4,5,6]\n",
    "lst_3=[7,8,9]\n",
    "\n",
    "# Make a list of lists to form a matrix\n",
    "matrix = [lst_1,lst_2,lst_3]"
   ]
  },
  {
   "cell_type": "code",
   "execution_count": 126,
   "id": "f3b1c79a",
   "metadata": {},
   "outputs": [
    {
     "data": {
      "text/plain": [
       "[[1, 2, 3], [4, 5, 6], [7, 8, 9]]"
      ]
     },
     "execution_count": 126,
     "metadata": {},
     "output_type": "execute_result"
    }
   ],
   "source": [
    "matrix"
   ]
  },
  {
   "cell_type": "code",
   "execution_count": 127,
   "id": "084ddcb4",
   "metadata": {},
   "outputs": [
    {
     "data": {
      "text/plain": [
       "6"
      ]
     },
     "execution_count": 127,
     "metadata": {},
     "output_type": "execute_result"
    }
   ],
   "source": [
    "matrix[1][2]"
   ]
  },
  {
   "cell_type": "code",
   "execution_count": 128,
   "id": "eb99495d",
   "metadata": {},
   "outputs": [
    {
     "data": {
      "text/plain": [
       "[8, 9]"
      ]
     },
     "execution_count": 128,
     "metadata": {},
     "output_type": "execute_result"
    }
   ],
   "source": [
    "matrix[2][1:]"
   ]
  },
  {
   "cell_type": "code",
   "execution_count": 129,
   "id": "437a38ae",
   "metadata": {},
   "outputs": [
    {
     "data": {
      "text/plain": [
       "[4, 5, 6]"
      ]
     },
     "execution_count": 129,
     "metadata": {},
     "output_type": "execute_result"
    }
   ],
   "source": [
    "matrix[1]"
   ]
  },
  {
   "cell_type": "code",
   "execution_count": 130,
   "id": "35b8160a",
   "metadata": {},
   "outputs": [
    {
     "data": {
      "text/plain": [
       "7"
      ]
     },
     "execution_count": 130,
     "metadata": {},
     "output_type": "execute_result"
    }
   ],
   "source": [
    "matrix[2][0]"
   ]
  },
  {
   "cell_type": "code",
   "execution_count": 131,
   "id": "522ac930",
   "metadata": {},
   "outputs": [
    {
     "data": {
      "text/plain": [
       "1"
      ]
     },
     "execution_count": 131,
     "metadata": {},
     "output_type": "execute_result"
    }
   ],
   "source": [
    "matrix[0][0]"
   ]
  },
  {
   "cell_type": "code",
   "execution_count": 133,
   "id": "af864a9d",
   "metadata": {},
   "outputs": [
    {
     "data": {
      "text/plain": [
       "(1, 1, 2)"
      ]
     },
     "execution_count": 133,
     "metadata": {},
     "output_type": "execute_result"
    }
   ],
   "source": [
    "matrix[0][0],[1][0],[2][0]"
   ]
  },
  {
   "cell_type": "code",
   "execution_count": 134,
   "id": "78d67cec",
   "metadata": {},
   "outputs": [
    {
     "data": {
      "text/plain": [
       "[0, 1, 2, 3, 4, 5, 6, 7, 8, 9, 10, 11, 12, 13, 14, 15, 16, 17, 18, 19]"
      ]
     },
     "execution_count": 134,
     "metadata": {},
     "output_type": "execute_result"
    }
   ],
   "source": [
    "## List Comprehension\n",
    "[i for i in range(20)]"
   ]
  },
  {
   "cell_type": "code",
   "execution_count": 135,
   "id": "948b40d8",
   "metadata": {},
   "outputs": [
    {
     "data": {
      "text/plain": [
       "[0,\n",
       " 'ODD',\n",
       " 2,\n",
       " 'ODD',\n",
       " 4,\n",
       " 'ODD',\n",
       " 6,\n",
       " 'ODD',\n",
       " 8,\n",
       " 'ODD',\n",
       " 10,\n",
       " 'ODD',\n",
       " 12,\n",
       " 'ODD',\n",
       " 14,\n",
       " 'ODD',\n",
       " 16,\n",
       " 'ODD',\n",
       " 18,\n",
       " 'ODD']"
      ]
     },
     "execution_count": 135,
     "metadata": {},
     "output_type": "execute_result"
    }
   ],
   "source": [
    "##even number\n",
    "\n",
    "[i if i%2==0 else \"ODD\" for i in range(20)]"
   ]
  },
  {
   "cell_type": "code",
   "execution_count": null,
   "id": "677d2172",
   "metadata": {},
   "outputs": [],
   "source": [
    "## Assignment \n",
    "## Sum of even numbers and odd numbers\n",
    "lst=[1,2,3,4,5,6,7,8]\n"
   ]
  },
  {
   "cell_type": "code",
   "execution_count": 141,
   "id": "adcf52b7",
   "metadata": {},
   "outputs": [
    {
     "name": "stdout",
     "output_type": "stream",
     "text": [
      "20\n",
      "16\n"
     ]
    }
   ],
   "source": [
    "lst=[1,2,3,4,5,6,7,8]\n",
    "even_sum=0\n",
    "odd_sum=0\n",
    "for i in lst:\n",
    "    if i % 2 ==0:\n",
    "        even_sum += i\n",
    "    else:\n",
    "        odd_sum += i\n",
    "print(even_sum)\n",
    "print(odd_sum)"
   ]
  },
  {
   "cell_type": "code",
   "execution_count": 142,
   "id": "b7ec1664",
   "metadata": {},
   "outputs": [
    {
     "data": {
      "text/plain": [
       "[1, 2, 3, 4, 5, 6, 7, 8]"
      ]
     },
     "execution_count": 142,
     "metadata": {},
     "output_type": "execute_result"
    }
   ],
   "source": [
    "lst"
   ]
  },
  {
   "cell_type": "code",
   "execution_count": 143,
   "id": "fa9e6108",
   "metadata": {},
   "outputs": [],
   "source": [
    "even_sum=sum([num for num in lst if num%2==0])"
   ]
  },
  {
   "cell_type": "code",
   "execution_count": 144,
   "id": "a0371216",
   "metadata": {},
   "outputs": [
    {
     "data": {
      "text/plain": [
       "20"
      ]
     },
     "execution_count": 144,
     "metadata": {},
     "output_type": "execute_result"
    }
   ],
   "source": [
    "even_sum"
   ]
  },
  {
   "cell_type": "code",
   "execution_count": 146,
   "id": "353d044b",
   "metadata": {},
   "outputs": [],
   "source": [
    "odd_sum=sum([num for num in lst if num%2!=0])"
   ]
  },
  {
   "cell_type": "code",
   "execution_count": 147,
   "id": "8ddd057b",
   "metadata": {},
   "outputs": [
    {
     "data": {
      "text/plain": [
       "16"
      ]
     },
     "execution_count": 147,
     "metadata": {},
     "output_type": "execute_result"
    }
   ],
   "source": [
    "odd_sum"
   ]
  },
  {
   "cell_type": "code",
   "execution_count": 148,
   "id": "1ca9d547",
   "metadata": {},
   "outputs": [
    {
     "data": {
      "text/plain": [
       "[1, 4, 9, 16, 25, 36, 49, 64, 81, 100]"
      ]
     },
     "execution_count": 148,
     "metadata": {},
     "output_type": "execute_result"
    }
   ],
   "source": [
    "lst=[1,2,3,4,5,6,7,8,9,10]\n",
    "[num**2 for num in lst]"
   ]
  },
  {
   "cell_type": "code",
   "execution_count": 152,
   "id": "93a1f899",
   "metadata": {},
   "outputs": [
    {
     "data": {
      "text/plain": [
       "[1, 2, 3, 4]"
      ]
     },
     "execution_count": 152,
     "metadata": {},
     "output_type": "execute_result"
    }
   ],
   "source": [
    "# Example 2: Create a list of only the positive numbers from a given list\n",
    "numbers = [-2, -1, 0, 1, 2, 3, 4]\n",
    "[num for num in numbers if num > 0]"
   ]
  },
  {
   "cell_type": "code",
   "execution_count": 153,
   "id": "275e232e",
   "metadata": {},
   "outputs": [
    {
     "data": {
      "text/plain": [
       "['a', 'b', 'c', 'd']"
      ]
     },
     "execution_count": 153,
     "metadata": {},
     "output_type": "execute_result"
    }
   ],
   "source": [
    "# Example 3: Create a list of only the first letters of words in a list\n",
    "words = ['apple', 'banana', 'cherry', 'date']\n",
    "[word[0] for word in words]"
   ]
  },
  {
   "cell_type": "code",
   "execution_count": null,
   "id": "f17a0157",
   "metadata": {},
   "outputs": [],
   "source": [
    "(9/5)*temp+32\n"
   ]
  },
  {
   "cell_type": "code",
   "execution_count": null,
   "id": "60049836",
   "metadata": {},
   "outputs": [],
   "source": []
  },
  {
   "cell_type": "code",
   "execution_count": null,
   "id": "ddb4c118",
   "metadata": {},
   "outputs": [],
   "source": []
  },
  {
   "cell_type": "code",
   "execution_count": 154,
   "id": "79668f05",
   "metadata": {},
   "outputs": [
    {
     "data": {
      "text/plain": [
       "[32.0, 50.0, 68.0, 86.0, 104.0, 122.0]"
      ]
     },
     "execution_count": 154,
     "metadata": {},
     "output_type": "execute_result"
    }
   ],
   "source": [
    "# Example 4: Convert a list of temperatures from Celsius to Fahrenheit uing list comprehesnion\n",
    "celsius_temperatures = [0, 10, 20, 30, 40, 50]\n",
    "[(9/5)*temp+32 for temp in celsius_temperatures]"
   ]
  },
  {
   "cell_type": "code",
   "execution_count": 155,
   "id": "2ca676f4",
   "metadata": {},
   "outputs": [
    {
     "data": {
      "text/plain": [
       "[1, 2, 3, 4, 5, 6, 7, 8, 9]"
      ]
     },
     "execution_count": 155,
     "metadata": {},
     "output_type": "execute_result"
    }
   ],
   "source": [
    "# Example 5: Flatten a list of lists into a single list\n",
    "lists = [[1, 2, 3], [4, 5, 6], [7, 8, 9]]\n",
    "[j for i in lists for j in i]"
   ]
  },
  {
   "cell_type": "code",
   "execution_count": 157,
   "id": "8d68dcb6",
   "metadata": {},
   "outputs": [],
   "source": [
    "## Assignment \n",
    "## Using both code and list comprehesnion\n",
    "# Example 2: Create a list of only the prime numbers from a given list\n",
    "numbers = [1, 2, 3, 4, 5, 6, 7, 8, 9, 10]"
   ]
  },
  {
   "cell_type": "code",
   "execution_count": null,
   "id": "346d537b",
   "metadata": {},
   "outputs": [],
   "source": []
  },
  {
   "cell_type": "code",
   "execution_count": null,
   "id": "ad2446e8",
   "metadata": {},
   "outputs": [],
   "source": []
  },
  {
   "cell_type": "code",
   "execution_count": 159,
   "id": "b8c73868",
   "metadata": {},
   "outputs": [],
   "source": [
    "# Example 3: Create a list of all the possible combinations of 2 elements from a list\n",
    "numbers = [1, 2, 3, 4, 5]"
   ]
  },
  {
   "cell_type": "code",
   "execution_count": null,
   "id": "a1409437",
   "metadata": {},
   "outputs": [],
   "source": []
  },
  {
   "cell_type": "code",
   "execution_count": null,
   "id": "700b828e",
   "metadata": {},
   "outputs": [],
   "source": []
  }
 ],
 "metadata": {
  "kernelspec": {
   "display_name": "Python 3 (ipykernel)",
   "language": "python",
   "name": "python3"
  },
  "language_info": {
   "codemirror_mode": {
    "name": "ipython",
    "version": 3
   },
   "file_extension": ".py",
   "mimetype": "text/x-python",
   "name": "python",
   "nbconvert_exporter": "python",
   "pygments_lexer": "ipython3",
   "version": "3.11.4"
  }
 },
 "nbformat": 4,
 "nbformat_minor": 5
}
